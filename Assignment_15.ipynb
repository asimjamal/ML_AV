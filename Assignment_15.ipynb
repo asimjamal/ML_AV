{
  "nbformat": 4,
  "nbformat_minor": 0,
  "metadata": {
    "colab": {
      "name": "Assignment_15.ipynb",
      "version": "0.3.2",
      "provenance": []
    },
    "kernelspec": {
      "name": "python3",
      "display_name": "Python 3"
    }
  },
  "cells": [
    {
      "metadata": {
        "id": "Y30YbCWZzZb_",
        "colab_type": "code",
        "colab": {}
      },
      "cell_type": "code",
      "source": [
        "import pandas as pd  \n",
        "import numpy as np  \n",
        "import matplotlib.pyplot as plt  \n",
        "%matplotlib inline\n",
        "from sklearn import datasets\n",
        "from sklearn.model_selection import train_test_split \n",
        "from sklearn.svm import SVC\n",
        "from sklearn.metrics import confusion_matrix, classification_report"
      ],
      "execution_count": 0,
      "outputs": []
    },
    {
      "metadata": {
        "id": "UoWdoiiKz1DI",
        "colab_type": "code",
        "colab": {}
      },
      "cell_type": "code",
      "source": [
        "data = datasets.load_digits()"
      ],
      "execution_count": 0,
      "outputs": []
    },
    {
      "metadata": {
        "id": "cFdXxrjIz3bi",
        "colab_type": "code",
        "colab": {}
      },
      "cell_type": "code",
      "source": [
        "\n",
        "X = data.data\n",
        "y = data.target\n",
        "X_train, X_test, y_train, y_test = train_test_split(X, y, test_size = 0.20, random_state=42)"
      ],
      "execution_count": 0,
      "outputs": []
    },
    {
      "metadata": {
        "id": "BcIaYEKhz5y8",
        "colab_type": "code",
        "colab": {
          "base_uri": "https://localhost:8080/",
          "height": 578
        },
        "outputId": "f266564f-f338-4c95-d32a-899a5845cd36"
      },
      "cell_type": "code",
      "source": [
        "svclassifier = SVC(kernel='linear', degree=8)  \n",
        "svclassifier.fit(X_train, y_train) \n",
        "y_pred1 = svclassifier.predict(X_test)\n",
        "print(\"When kernel = 'linear'\\n\")\n",
        "print(\"Confusion Matrix:\\n\",confusion_matrix(y_test, y_pred1))\n",
        "print(\"\\n\\nClassification Report:\\n\", classification_report(y_test, y_pred1))"
      ],
      "execution_count": 4,
      "outputs": [
        {
          "output_type": "stream",
          "text": [
            "When kernel = 'linear'\n",
            "\n",
            "Confusion Matrix:\n",
            " [[33  0  0  0  0  0  0  0  0  0]\n",
            " [ 0 28  0  0  0  0  0  0  0  0]\n",
            " [ 0  0 33  0  0  0  0  0  0  0]\n",
            " [ 0  0  0 32  0  1  0  0  0  1]\n",
            " [ 0  1  0  0 45  0  0  0  0  0]\n",
            " [ 0  0  0  0  0 47  0  0  0  0]\n",
            " [ 0  0  0  0  0  0 35  0  0  0]\n",
            " [ 0  0  0  0  0  0  0 33  0  1]\n",
            " [ 0  0  0  0  0  1  0  0 29  0]\n",
            " [ 0  0  0  1  1  0  0  1  0 37]]\n",
            "\n",
            "\n",
            "Classification Report:\n",
            "               precision    recall  f1-score   support\n",
            "\n",
            "           0       1.00      1.00      1.00        33\n",
            "           1       0.97      1.00      0.98        28\n",
            "           2       1.00      1.00      1.00        33\n",
            "           3       0.97      0.94      0.96        34\n",
            "           4       0.98      0.98      0.98        46\n",
            "           5       0.96      1.00      0.98        47\n",
            "           6       1.00      1.00      1.00        35\n",
            "           7       0.97      0.97      0.97        34\n",
            "           8       1.00      0.97      0.98        30\n",
            "           9       0.95      0.93      0.94        40\n",
            "\n",
            "   micro avg       0.98      0.98      0.98       360\n",
            "   macro avg       0.98      0.98      0.98       360\n",
            "weighted avg       0.98      0.98      0.98       360\n",
            "\n"
          ],
          "name": "stdout"
        }
      ]
    },
    {
      "metadata": {
        "id": "1OLsuVbF0D7G",
        "colab_type": "code",
        "colab": {
          "base_uri": "https://localhost:8080/",
          "height": 632
        },
        "outputId": "fa298536-2f09-4d9e-dc80-bc484b65f70d"
      },
      "cell_type": "code",
      "source": [
        "svclassifier = SVC(kernel='poly', degree=8)  \n",
        "svclassifier.fit(X_train, y_train) \n",
        "y_pred2 = svclassifier.predict(X_test)\n",
        "print(\"When kernel = 'poly'\\n\")\n",
        "print(\"Confusion Matrix:\\n\",confusion_matrix(y_test, y_pred2))\n",
        "print(\"\\n\\nClassification Report:\\n\", classification_report(y_test, y_pred2))"
      ],
      "execution_count": 5,
      "outputs": [
        {
          "output_type": "stream",
          "text": [
            "When kernel = 'poly'\n",
            "\n",
            "Confusion Matrix:\n",
            " [[33  0  0  0  0  0  0  0  0  0]\n",
            " [ 0 27  0  0  0  0  0  0  1  0]\n",
            " [ 0  0 33  0  0  0  0  0  0  0]\n",
            " [ 0  0  0 33  0  1  0  0  0  0]\n",
            " [ 0  0  0  0 46  0  0  0  0  0]\n",
            " [ 0  0  0  0  0 46  1  0  0  0]\n",
            " [ 0  0  0  0  0  0 35  0  0  0]\n",
            " [ 0  0  0  0  0  0  0 33  0  1]\n",
            " [ 0  2  0  0  0  0  0  0 27  1]\n",
            " [ 0  0  0  1  1  0  0  0  0 38]]\n",
            "\n",
            "\n",
            "Classification Report:\n",
            "               precision    recall  f1-score   support\n",
            "\n",
            "           0       1.00      1.00      1.00        33\n",
            "           1       0.93      0.96      0.95        28\n",
            "           2       1.00      1.00      1.00        33\n",
            "           3       0.97      0.97      0.97        34\n",
            "           4       0.98      1.00      0.99        46\n",
            "           5       0.98      0.98      0.98        47\n",
            "           6       0.97      1.00      0.99        35\n",
            "           7       1.00      0.97      0.99        34\n",
            "           8       0.96      0.90      0.93        30\n",
            "           9       0.95      0.95      0.95        40\n",
            "\n",
            "   micro avg       0.97      0.97      0.97       360\n",
            "   macro avg       0.97      0.97      0.97       360\n",
            "weighted avg       0.98      0.97      0.97       360\n",
            "\n"
          ],
          "name": "stdout"
        },
        {
          "output_type": "stream",
          "text": [
            "/usr/local/lib/python3.6/dist-packages/sklearn/svm/base.py:196: FutureWarning: The default value of gamma will change from 'auto' to 'scale' in version 0.22 to account better for unscaled features. Set gamma explicitly to 'auto' or 'scale' to avoid this warning.\n",
            "  \"avoid this warning.\", FutureWarning)\n"
          ],
          "name": "stderr"
        }
      ]
    },
    {
      "metadata": {
        "id": "d5MIKKwF0L5x",
        "colab_type": "code",
        "colab": {
          "base_uri": "https://localhost:8080/",
          "height": 632
        },
        "outputId": "10b117d5-cd44-4b0a-f521-a5c8f9bbcfd8"
      },
      "cell_type": "code",
      "source": [
        "svclassifier = SVC(kernel='rbf', degree=8)  \n",
        "svclassifier.fit(X_train, y_train) \n",
        "y_pred3 = svclassifier.predict(X_test)\n",
        "print(\"When kernel = 'rbf'\\n\")\n",
        "print(\"Confusion Matrix:\\n\",confusion_matrix(y_test, y_pred3))\n",
        "print(\"\\n\\nClassification Report:\\n\", classification_report(y_test, y_pred3))"
      ],
      "execution_count": 6,
      "outputs": [
        {
          "output_type": "stream",
          "text": [
            "/usr/local/lib/python3.6/dist-packages/sklearn/svm/base.py:196: FutureWarning: The default value of gamma will change from 'auto' to 'scale' in version 0.22 to account better for unscaled features. Set gamma explicitly to 'auto' or 'scale' to avoid this warning.\n",
            "  \"avoid this warning.\", FutureWarning)\n"
          ],
          "name": "stderr"
        },
        {
          "output_type": "stream",
          "text": [
            "When kernel = 'rbf'\n",
            "\n",
            "Confusion Matrix:\n",
            " [[14  0  0 19  0  0  0  0  0  0]\n",
            " [ 0 20  0  8  0  0  0  0  0  0]\n",
            " [ 0  0 16 17  0  0  0  0  0  0]\n",
            " [ 0  0  0 34  0  0  0  0  0  0]\n",
            " [ 0  0  0 33 13  0  0  0  0  0]\n",
            " [ 0  0  0 44  0  3  0  0  0  0]\n",
            " [ 0  0  0  9  0  0 26  0  0  0]\n",
            " [ 0  0  0 15  0  0  0 19  0  0]\n",
            " [ 0  0  0 16  0  0  0  0 14  0]\n",
            " [ 0  0  0 31  0  0  0  0  0  9]]\n",
            "\n",
            "\n",
            "Classification Report:\n",
            "               precision    recall  f1-score   support\n",
            "\n",
            "           0       1.00      0.42      0.60        33\n",
            "           1       1.00      0.71      0.83        28\n",
            "           2       1.00      0.48      0.65        33\n",
            "           3       0.15      1.00      0.26        34\n",
            "           4       1.00      0.28      0.44        46\n",
            "           5       1.00      0.06      0.12        47\n",
            "           6       1.00      0.74      0.85        35\n",
            "           7       1.00      0.56      0.72        34\n",
            "           8       1.00      0.47      0.64        30\n",
            "           9       1.00      0.23      0.37        40\n",
            "\n",
            "   micro avg       0.47      0.47      0.47       360\n",
            "   macro avg       0.92      0.50      0.55       360\n",
            "weighted avg       0.92      0.47      0.52       360\n",
            "\n"
          ],
          "name": "stdout"
        }
      ]
    },
    {
      "metadata": {
        "id": "4BXqfy4A0TrW",
        "colab_type": "code",
        "colab": {
          "base_uri": "https://localhost:8080/",
          "height": 666
        },
        "outputId": "963ec794-ffcb-4669-9797-f4dc841a3b78"
      },
      "cell_type": "code",
      "source": [
        "svclassifier = SVC(kernel='sigmoid', degree=8)  \n",
        "svclassifier.fit(X_train, y_train) \n",
        "y_pred4 = svclassifier.predict(X_test)\n",
        "print(\"When kernel = 'sigmoid'\\n\")\n",
        "print(\"Confusion Matrix:\\n\",confusion_matrix(y_test, y_pred4))\n",
        "print(\"\\n\\nClassification Report:\\n\", classification_report(y_test, y_pred4))"
      ],
      "execution_count": 7,
      "outputs": [
        {
          "output_type": "stream",
          "text": [
            "/usr/local/lib/python3.6/dist-packages/sklearn/svm/base.py:196: FutureWarning: The default value of gamma will change from 'auto' to 'scale' in version 0.22 to account better for unscaled features. Set gamma explicitly to 'auto' or 'scale' to avoid this warning.\n",
            "  \"avoid this warning.\", FutureWarning)\n"
          ],
          "name": "stderr"
        },
        {
          "output_type": "stream",
          "text": [
            "When kernel = 'sigmoid'\n",
            "\n",
            "Confusion Matrix:\n",
            " [[ 0 33  0  0  0  0  0  0  0  0]\n",
            " [ 0 28  0  0  0  0  0  0  0  0]\n",
            " [ 0 33  0  0  0  0  0  0  0  0]\n",
            " [ 0 34  0  0  0  0  0  0  0  0]\n",
            " [ 0 46  0  0  0  0  0  0  0  0]\n",
            " [ 0 47  0  0  0  0  0  0  0  0]\n",
            " [ 0 35  0  0  0  0  0  0  0  0]\n",
            " [ 0 34  0  0  0  0  0  0  0  0]\n",
            " [ 0 30  0  0  0  0  0  0  0  0]\n",
            " [ 0 40  0  0  0  0  0  0  0  0]]\n",
            "\n",
            "\n",
            "Classification Report:\n",
            "               precision    recall  f1-score   support\n",
            "\n",
            "           0       0.00      0.00      0.00        33\n",
            "           1       0.08      1.00      0.14        28\n",
            "           2       0.00      0.00      0.00        33\n",
            "           3       0.00      0.00      0.00        34\n",
            "           4       0.00      0.00      0.00        46\n",
            "           5       0.00      0.00      0.00        47\n",
            "           6       0.00      0.00      0.00        35\n",
            "           7       0.00      0.00      0.00        34\n",
            "           8       0.00      0.00      0.00        30\n",
            "           9       0.00      0.00      0.00        40\n",
            "\n",
            "   micro avg       0.08      0.08      0.08       360\n",
            "   macro avg       0.01      0.10      0.01       360\n",
            "weighted avg       0.01      0.08      0.01       360\n",
            "\n"
          ],
          "name": "stdout"
        },
        {
          "output_type": "stream",
          "text": [
            "/usr/local/lib/python3.6/dist-packages/sklearn/metrics/classification.py:1143: UndefinedMetricWarning: Precision and F-score are ill-defined and being set to 0.0 in labels with no predicted samples.\n",
            "  'precision', 'predicted', average, warn_for)\n"
          ],
          "name": "stderr"
        }
      ]
    },
    {
      "metadata": {
        "id": "lRA5nQ4k0boP",
        "colab_type": "code",
        "colab": {}
      },
      "cell_type": "code",
      "source": [
        ""
      ],
      "execution_count": 0,
      "outputs": []
    }
  ]
}